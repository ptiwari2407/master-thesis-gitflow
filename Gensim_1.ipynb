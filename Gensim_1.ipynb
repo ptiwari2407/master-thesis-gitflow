{
  "nbformat": 4,
  "nbformat_minor": 0,
  "metadata": {
    "kernelspec": {
      "display_name": "Arbeit",
      "language": "python",
      "name": "arbeit"
    },
    "language_info": {
      "codemirror_mode": {
        "name": "ipython",
        "version": 3
      },
      "file_extension": ".py",
      "mimetype": "text/x-python",
      "name": "python",
      "nbconvert_exporter": "python",
      "pygments_lexer": "ipython3",
      "version": "3.6.10"
    },
    "colab": {
      "name": "Gensim-1.ipynb",
      "provenance": []
    }
  },
  "cells": [
    {
      "cell_type": "code",
      "metadata": {
        "id": "q98DmSxL_ZRR",
        "colab_type": "code",
        "colab": {}
      },
      "source": [
        "# import gensim.downloader as api\n",
        "# # api.info('word2vec-google-news-300')\n",
        "# wv=api.load('word2vec-google-news-300')"
      ],
      "execution_count": null,
      "outputs": []
    },
    {
      "cell_type": "code",
      "metadata": {
        "id": "cF1AYRME_ZRf",
        "colab_type": "code",
        "colab": {}
      },
      "source": [
        "# existing word embeddings and words they generate in terms of semantic similarity\n"
      ],
      "execution_count": null,
      "outputs": []
    },
    {
      "cell_type": "code",
      "metadata": {
        "id": "t4Zz52-F_ZRp",
        "colab_type": "code",
        "colab": {}
      },
      "source": [
        "# wv.most_similar('able')"
      ],
      "execution_count": null,
      "outputs": []
    },
    {
      "cell_type": "code",
      "metadata": {
        "id": "ex6_rSCl_ZRu",
        "colab_type": "code",
        "colab": {
          "base_uri": "https://localhost:8080/",
          "height": 51
        },
        "outputId": "bd23d854-65b4-43f5-873a-b90759915b9f"
      },
      "source": [
        "import nltk\n",
        "nltk.download('wordnet')\n",
        "from nltk.corpus import wordnet as wn"
      ],
      "execution_count": null,
      "outputs": [
        {
          "output_type": "stream",
          "text": [
            "[nltk_data] Downloading package wordnet to /root/nltk_data...\n",
            "[nltk_data]   Package wordnet is already up-to-date!\n"
          ],
          "name": "stdout"
        }
      ]
    },
    {
      "cell_type": "code",
      "metadata": {
        "id": "2zf0VtgKUU26",
        "colab_type": "code",
        "colab": {}
      },
      "source": [
        "allSynsets = list(wn.all_synsets(wn.NOUN))\n",
        "sub_allSynsets = allSynsets[0:10]"
      ],
      "execution_count": null,
      "outputs": []
    },
    {
      "cell_type": "code",
      "metadata": {
        "id": "m--xvohbUNnP",
        "colab_type": "code",
        "colab": {}
      },
      "source": [
        "syn_group = []\n",
        "syn_dict = dict()\n",
        "synGroup_length = []\n",
        "\n",
        "for elem in sub_allSynsets:\n",
        "  syn_group.append(elem.name())"
      ],
      "execution_count": null,
      "outputs": []
    },
    {
      "cell_type": "code",
      "metadata": {
        "id": "JDtMwV70_ZRz",
        "colab_type": "code",
        "colab": {
          "base_uri": "https://localhost:8080/",
          "height": 391
        },
        "outputId": "7d02c093-99b8-4aea-88f7-2052df5db546"
      },
      "source": [
        "# this block is strictly reserved for software development of this project\n",
        "word = 'dog'\n",
        "syn_group = []\n",
        "syn_dict = dict()\n",
        "for elem in wn.synsets(word,pos='n'):\n",
        "    syn_group.append(elem.name())\n",
        "    print(elem)\n",
        "for elem in syn_group:\n",
        "    syn_dict[elem]= wn.synset(elem).lemma_names()\n",
        "#     print(elem.hypernyms())\n",
        "    print(elem,syn_dict[elem])\n",
        "    \n",
        "for elem in syn_group:\n",
        "    print(elem, wn.synset(elem).lemma_names())\n",
        "    \n",
        "#     syn_dict[elem]= wn.synset(elem).lemma_names()\n",
        "#     print(wn.synset(elem).lemma_names())\n",
        "# #     print(wn.synset(elem).definition())\n",
        "#     print(elem)\n",
        "print(syn_group)\n",
        "temp_1 = temp"
      ],
      "execution_count": null,
      "outputs": [
        {
          "output_type": "stream",
          "text": [
            "Synset('dog.n.01')\n",
            "Synset('frump.n.01')\n",
            "Synset('dog.n.03')\n",
            "Synset('cad.n.01')\n",
            "Synset('frank.n.02')\n",
            "Synset('pawl.n.01')\n",
            "Synset('andiron.n.01')\n",
            "dog.n.01 ['dog', 'domestic_dog', 'Canis_familiaris']\n",
            "frump.n.01 ['frump', 'dog']\n",
            "dog.n.03 ['dog']\n",
            "cad.n.01 ['cad', 'bounder', 'blackguard', 'dog', 'hound', 'heel']\n",
            "frank.n.02 ['frank', 'frankfurter', 'hotdog', 'hot_dog', 'dog', 'wiener', 'wienerwurst', 'weenie']\n",
            "pawl.n.01 ['pawl', 'detent', 'click', 'dog']\n",
            "andiron.n.01 ['andiron', 'firedog', 'dog', 'dog-iron']\n",
            "dog.n.01 ['dog', 'domestic_dog', 'Canis_familiaris']\n",
            "frump.n.01 ['frump', 'dog']\n",
            "dog.n.03 ['dog']\n",
            "cad.n.01 ['cad', 'bounder', 'blackguard', 'dog', 'hound', 'heel']\n",
            "frank.n.02 ['frank', 'frankfurter', 'hotdog', 'hot_dog', 'dog', 'wiener', 'wienerwurst', 'weenie']\n",
            "pawl.n.01 ['pawl', 'detent', 'click', 'dog']\n",
            "andiron.n.01 ['andiron', 'firedog', 'dog', 'dog-iron']\n",
            "['dog.n.01', 'frump.n.01', 'dog.n.03', 'cad.n.01', 'frank.n.02', 'pawl.n.01', 'andiron.n.01']\n"
          ],
          "name": "stdout"
        }
      ]
    },
    {
      "cell_type": "code",
      "metadata": {
        "id": "ArwZG8tGO0x5",
        "colab_type": "code",
        "colab": {
          "base_uri": "https://localhost:8080/",
          "height": 54
        },
        "outputId": "afa9f2f3-53bc-400b-d7b1-8733563aea94"
      },
      "source": [
        "# def flatten(m):\n",
        "#   if m == []:\n",
        "#     return m\n",
        "#   if isinstance(m[0], list):\n",
        "#     return flatten(m[0]) + flatten[m[1:]]\n",
        "#   return m[:1] + flatten(m[1:])\n",
        "flatten=lambda l: sum(map(flatten,l),[]) if isinstance(l,list) else [l]\n",
        "print(flatten(temp))"
      ],
      "execution_count": null,
      "outputs": [
        {
          "output_type": "stream",
          "text": [
            "['atropine', 'mydriatic', 'mydriatic_drug', 'alkaloid', 'antidote', 'counterpoison', 'antispasmodic', 'spasmolytic', 'antispasmodic_agent', 'poison', 'toxicant', 'poisonous_substance']\n"
          ],
          "name": "stdout"
        }
      ]
    },
    {
      "cell_type": "code",
      "metadata": {
        "id": "CUiy_HdZW5bI",
        "colab_type": "code",
        "colab": {
          "base_uri": "https://localhost:8080/",
          "height": 156
        },
        "outputId": "0a65abe9-3450-4418-cac9-db2f7eccdb4f"
      },
      "source": [
        "# using recursion to solve unlist function\n",
        "def unlist(m):\n",
        "  q = []\n",
        "  p = []\n",
        "  for x in m:\n",
        "    if (type(x) is list):\n",
        "      for y in x:\n",
        "        q.append(y)\n",
        "      # print(q)\n",
        "      continue\n",
        "    q.append(x)\n",
        "    print(\"*******\")\n",
        "    print(q)\n",
        "  for i in range(len(q)):\n",
        "    if (type(q[i]) is not list):\n",
        "      if (i == (len(q)-1)):\n",
        "        return q\n",
        "      continue\n",
        "    else:\n",
        "      break\n",
        "  count = 0\n",
        "  print(len(q), q)\n",
        "  for elem in q:\n",
        "    count = count+1\n",
        "    # print()\n",
        "    if (type(elem) is list):\n",
        "      z = unlist(elem)\n",
        "      q.remove(elem)\n",
        "      for item in z:\n",
        "        q.append(item)\n",
        "  return q\n",
        "\n",
        "temp = temp_1\n",
        "print(temp)\n",
        "print(\"Heloo this is just a seprator\")\n",
        "print(unlist(temp))"
      ],
      "execution_count": null,
      "outputs": [
        {
          "output_type": "stream",
          "text": [
            "[[[[[['atropine'], ['mydriatic', 'mydriatic_drug']], ['alkaloid']], ['antidote', 'counterpoison']], ['antispasmodic', 'spasmolytic', 'antispasmodic_agent']], ['poison', 'toxicant', 'poisonous_substance']]\n",
            "Heloo this is just a seprator\n",
            "5 [[[[['atropine'], ['mydriatic', 'mydriatic_drug']], ['alkaloid']], ['antidote', 'counterpoison']], ['antispasmodic', 'spasmolytic', 'antispasmodic_agent'], 'poison', 'toxicant', 'poisonous_substance']\n",
            "4 [[['atropine'], ['mydriatic', 'mydriatic_drug']], ['alkaloid'], 'antidote', 'counterpoison']\n",
            "*******\n",
            "['alkaloid']\n",
            "[['antispasmodic', 'spasmolytic', 'antispasmodic_agent'], 'poison', 'toxicant', 'poisonous_substance', 'antidote', 'counterpoison', 'atropine', 'mydriatic', 'mydriatic_drug', 'alkaloid']\n"
          ],
          "name": "stdout"
        }
      ]
    },
    {
      "cell_type": "code",
      "metadata": {
        "id": "rqsIK9MEDTK_",
        "colab_type": "code",
        "colab": {
          "base_uri": "https://localhost:8080/",
          "height": 564
        },
        "outputId": "4d2b32ed-70c6-4fd1-ab35-216da3a70629"
      },
      "source": [
        "# def unlist(m):\n",
        "#   q = []\n",
        "#   p = []\n",
        "#   for x in m:\n",
        "#     if (type(x) is list):\n",
        "#       for y in x:\n",
        "#         q.append(y)\n",
        "#       # print(q)\n",
        "#       continue\n",
        "#     else:\n",
        "#       q.append(x)\n",
        "#   print(\"*******\")\n",
        "#   print(q, len(q))\n",
        "#   for i in range(len(q)):\n",
        "#     if (type(q[i]) is not list):\n",
        "#       p.append(q[i])\n",
        "#       q.remove(q[i])\n",
        "#       if (i == (len(q)-1)):\n",
        "#         return q\n",
        "#       continue\n",
        "#     else:\n",
        "#       break\n",
        "#   count = 0\n",
        "#   print(len(q), q, \"you're here\")\n",
        "#   for elem in q:\n",
        "#     count = count+1\n",
        "#     print(elem,count, \"mark b\")\n",
        "#     if (type(elem) is list):\n",
        "#       z = unlist(elem)\n",
        "#       q.remove(elem)\n",
        "#       for item in z:\n",
        "#         p.append(item)\n",
        "#   return p\n",
        "\n",
        "# temp = temp_1\n",
        "# print(temp)\n",
        "# print(\"Heloo this is just a seprator\")\n",
        "# print(unlist(temp))"
      ],
      "execution_count": null,
      "outputs": [
        {
          "output_type": "stream",
          "text": [
            "[[[[[['atropine'], ['mydriatic', 'mydriatic_drug']], ['alkaloid']], ['antidote', 'counterpoison']], ['antispasmodic', 'spasmolytic', 'antispasmodic_agent']], ['poison', 'toxicant', 'poisonous_substance']]\n",
            "Heloo this is just a seprator\n",
            "*******\n",
            "[[[[['atropine'], ['mydriatic', 'mydriatic_drug']], ['alkaloid']], ['antidote', 'counterpoison']], ['antispasmodic', 'spasmolytic', 'antispasmodic_agent'], 'poison', 'toxicant', 'poisonous_substance'] 5\n",
            "5 [[[[['atropine'], ['mydriatic', 'mydriatic_drug']], ['alkaloid']], ['antidote', 'counterpoison']], ['antispasmodic', 'spasmolytic', 'antispasmodic_agent'], 'poison', 'toxicant', 'poisonous_substance'] you're here\n",
            "[[[['atropine'], ['mydriatic', 'mydriatic_drug']], ['alkaloid']], ['antidote', 'counterpoison']] 1 mark b\n",
            "*******\n",
            "[[['atropine'], ['mydriatic', 'mydriatic_drug']], ['alkaloid'], 'antidote', 'counterpoison'] 4\n",
            "4 [[['atropine'], ['mydriatic', 'mydriatic_drug']], ['alkaloid'], 'antidote', 'counterpoison'] you're here\n",
            "[['atropine'], ['mydriatic', 'mydriatic_drug']] 1 mark b\n",
            "*******\n",
            "['atropine', 'mydriatic', 'mydriatic_drug'] 3\n"
          ],
          "name": "stdout"
        },
        {
          "output_type": "error",
          "ename": "IndexError",
          "evalue": "ignored",
          "traceback": [
            "\u001b[0;31m---------------------------------------------------------------------------\u001b[0m",
            "\u001b[0;31mIndexError\u001b[0m                                Traceback (most recent call last)",
            "\u001b[0;32m<ipython-input-44-8a084d37197b>\u001b[0m in \u001b[0;36m<module>\u001b[0;34m()\u001b[0m\n\u001b[1;32m     36\u001b[0m \u001b[0mprint\u001b[0m\u001b[0;34m(\u001b[0m\u001b[0mtemp\u001b[0m\u001b[0;34m)\u001b[0m\u001b[0;34m\u001b[0m\u001b[0;34m\u001b[0m\u001b[0m\n\u001b[1;32m     37\u001b[0m \u001b[0mprint\u001b[0m\u001b[0;34m(\u001b[0m\u001b[0;34m\"Heloo this is just a seprator\"\u001b[0m\u001b[0;34m)\u001b[0m\u001b[0;34m\u001b[0m\u001b[0;34m\u001b[0m\u001b[0m\n\u001b[0;32m---> 38\u001b[0;31m \u001b[0mprint\u001b[0m\u001b[0;34m(\u001b[0m\u001b[0munlist\u001b[0m\u001b[0;34m(\u001b[0m\u001b[0mtemp\u001b[0m\u001b[0;34m)\u001b[0m\u001b[0;34m)\u001b[0m\u001b[0;34m\u001b[0m\u001b[0;34m\u001b[0m\u001b[0m\n\u001b[0m",
            "\u001b[0;32m<ipython-input-44-8a084d37197b>\u001b[0m in \u001b[0;36munlist\u001b[0;34m(m)\u001b[0m\n\u001b[1;32m     27\u001b[0m     \u001b[0mprint\u001b[0m\u001b[0;34m(\u001b[0m\u001b[0melem\u001b[0m\u001b[0;34m,\u001b[0m\u001b[0mcount\u001b[0m\u001b[0;34m,\u001b[0m \u001b[0;34m\"mark b\"\u001b[0m\u001b[0;34m)\u001b[0m\u001b[0;34m\u001b[0m\u001b[0;34m\u001b[0m\u001b[0m\n\u001b[1;32m     28\u001b[0m     \u001b[0;32mif\u001b[0m \u001b[0;34m(\u001b[0m\u001b[0mtype\u001b[0m\u001b[0;34m(\u001b[0m\u001b[0melem\u001b[0m\u001b[0;34m)\u001b[0m \u001b[0;32mis\u001b[0m \u001b[0mlist\u001b[0m\u001b[0;34m)\u001b[0m\u001b[0;34m:\u001b[0m\u001b[0;34m\u001b[0m\u001b[0;34m\u001b[0m\u001b[0m\n\u001b[0;32m---> 29\u001b[0;31m       \u001b[0mz\u001b[0m \u001b[0;34m=\u001b[0m \u001b[0munlist\u001b[0m\u001b[0;34m(\u001b[0m\u001b[0melem\u001b[0m\u001b[0;34m)\u001b[0m\u001b[0;34m\u001b[0m\u001b[0;34m\u001b[0m\u001b[0m\n\u001b[0m\u001b[1;32m     30\u001b[0m       \u001b[0mq\u001b[0m\u001b[0;34m.\u001b[0m\u001b[0mremove\u001b[0m\u001b[0;34m(\u001b[0m\u001b[0melem\u001b[0m\u001b[0;34m)\u001b[0m\u001b[0;34m\u001b[0m\u001b[0;34m\u001b[0m\u001b[0m\n\u001b[1;32m     31\u001b[0m       \u001b[0;32mfor\u001b[0m \u001b[0mitem\u001b[0m \u001b[0;32min\u001b[0m \u001b[0mz\u001b[0m\u001b[0;34m:\u001b[0m\u001b[0;34m\u001b[0m\u001b[0;34m\u001b[0m\u001b[0m\n",
            "\u001b[0;32m<ipython-input-44-8a084d37197b>\u001b[0m in \u001b[0;36munlist\u001b[0;34m(m)\u001b[0m\n\u001b[1;32m     27\u001b[0m     \u001b[0mprint\u001b[0m\u001b[0;34m(\u001b[0m\u001b[0melem\u001b[0m\u001b[0;34m,\u001b[0m\u001b[0mcount\u001b[0m\u001b[0;34m,\u001b[0m \u001b[0;34m\"mark b\"\u001b[0m\u001b[0;34m)\u001b[0m\u001b[0;34m\u001b[0m\u001b[0;34m\u001b[0m\u001b[0m\n\u001b[1;32m     28\u001b[0m     \u001b[0;32mif\u001b[0m \u001b[0;34m(\u001b[0m\u001b[0mtype\u001b[0m\u001b[0;34m(\u001b[0m\u001b[0melem\u001b[0m\u001b[0;34m)\u001b[0m \u001b[0;32mis\u001b[0m \u001b[0mlist\u001b[0m\u001b[0;34m)\u001b[0m\u001b[0;34m:\u001b[0m\u001b[0;34m\u001b[0m\u001b[0;34m\u001b[0m\u001b[0m\n\u001b[0;32m---> 29\u001b[0;31m       \u001b[0mz\u001b[0m \u001b[0;34m=\u001b[0m \u001b[0munlist\u001b[0m\u001b[0;34m(\u001b[0m\u001b[0melem\u001b[0m\u001b[0;34m)\u001b[0m\u001b[0;34m\u001b[0m\u001b[0;34m\u001b[0m\u001b[0m\n\u001b[0m\u001b[1;32m     30\u001b[0m       \u001b[0mq\u001b[0m\u001b[0;34m.\u001b[0m\u001b[0mremove\u001b[0m\u001b[0;34m(\u001b[0m\u001b[0melem\u001b[0m\u001b[0;34m)\u001b[0m\u001b[0;34m\u001b[0m\u001b[0;34m\u001b[0m\u001b[0m\n\u001b[1;32m     31\u001b[0m       \u001b[0;32mfor\u001b[0m \u001b[0mitem\u001b[0m \u001b[0;32min\u001b[0m \u001b[0mz\u001b[0m\u001b[0;34m:\u001b[0m\u001b[0;34m\u001b[0m\u001b[0;34m\u001b[0m\u001b[0m\n",
            "\u001b[0;32m<ipython-input-44-8a084d37197b>\u001b[0m in \u001b[0;36munlist\u001b[0;34m(m)\u001b[0m\n\u001b[1;32m     13\u001b[0m   \u001b[0mprint\u001b[0m\u001b[0;34m(\u001b[0m\u001b[0mq\u001b[0m\u001b[0;34m,\u001b[0m \u001b[0mlen\u001b[0m\u001b[0;34m(\u001b[0m\u001b[0mq\u001b[0m\u001b[0;34m)\u001b[0m\u001b[0;34m)\u001b[0m\u001b[0;34m\u001b[0m\u001b[0;34m\u001b[0m\u001b[0m\n\u001b[1;32m     14\u001b[0m   \u001b[0;32mfor\u001b[0m \u001b[0mi\u001b[0m \u001b[0;32min\u001b[0m \u001b[0mrange\u001b[0m\u001b[0;34m(\u001b[0m\u001b[0mlen\u001b[0m\u001b[0;34m(\u001b[0m\u001b[0mq\u001b[0m\u001b[0;34m)\u001b[0m\u001b[0;34m)\u001b[0m\u001b[0;34m:\u001b[0m\u001b[0;34m\u001b[0m\u001b[0;34m\u001b[0m\u001b[0m\n\u001b[0;32m---> 15\u001b[0;31m     \u001b[0;32mif\u001b[0m \u001b[0;34m(\u001b[0m\u001b[0mtype\u001b[0m\u001b[0;34m(\u001b[0m\u001b[0mq\u001b[0m\u001b[0;34m[\u001b[0m\u001b[0mi\u001b[0m\u001b[0;34m]\u001b[0m\u001b[0;34m)\u001b[0m \u001b[0;32mis\u001b[0m \u001b[0;32mnot\u001b[0m \u001b[0mlist\u001b[0m\u001b[0;34m)\u001b[0m\u001b[0;34m:\u001b[0m\u001b[0;34m\u001b[0m\u001b[0;34m\u001b[0m\u001b[0m\n\u001b[0m\u001b[1;32m     16\u001b[0m       \u001b[0mp\u001b[0m\u001b[0;34m.\u001b[0m\u001b[0mappend\u001b[0m\u001b[0;34m(\u001b[0m\u001b[0mq\u001b[0m\u001b[0;34m[\u001b[0m\u001b[0mi\u001b[0m\u001b[0;34m]\u001b[0m\u001b[0;34m)\u001b[0m\u001b[0;34m\u001b[0m\u001b[0;34m\u001b[0m\u001b[0m\n\u001b[1;32m     17\u001b[0m       \u001b[0mq\u001b[0m\u001b[0;34m.\u001b[0m\u001b[0mremove\u001b[0m\u001b[0;34m(\u001b[0m\u001b[0mq\u001b[0m\u001b[0;34m[\u001b[0m\u001b[0mi\u001b[0m\u001b[0;34m]\u001b[0m\u001b[0;34m)\u001b[0m\u001b[0;34m\u001b[0m\u001b[0;34m\u001b[0m\u001b[0m\n",
            "\u001b[0;31mIndexError\u001b[0m: list index out of range"
          ]
        }
      ]
    },
    {
      "cell_type": "code",
      "metadata": {
        "id": "TXP85qeay5Y8",
        "colab_type": "code",
        "colab": {
          "base_uri": "https://localhost:8080/",
          "height": 34
        },
        "outputId": "54c65eb1-1eb1-446f-ec12-68a4c7e22abb"
      },
      "source": [
        "def unlist_2(m):\n",
        "  q = []\n",
        "  for i in range(len(m)):\n",
        "    print(len(m))\n",
        "    if (type(m[i]) is not list):\n",
        "      q.append(m[i])\n",
        "      if (i==len(m)-1):\n",
        "        return q\n",
        "      continue\n",
        "    else:\n",
        "      break\n",
        "  for elem in m:\n",
        "    if(type(elem) is list):\n",
        "      z = unlist_2(elem)\n",
        "      m.remove(elem)\n",
        "      for elem in z:\n",
        "        q.append(elem)\n",
        "  return q\n",
        "      \n",
        "\n",
        "    \n",
        "print(len(temp))\n",
        "\n"
      ],
      "execution_count": null,
      "outputs": [
        {
          "output_type": "stream",
          "text": [
            "2\n"
          ],
          "name": "stdout"
        }
      ]
    },
    {
      "cell_type": "code",
      "metadata": {
        "id": "3XcooBMQW5xY",
        "colab_type": "code",
        "colab": {
          "base_uri": "https://localhost:8080/",
          "height": 34
        },
        "outputId": "23dd9fbd-4a71-4e5f-bec7-7389c7c3caff"
      },
      "source": [
        "a = dict()\n",
        "a['a'] = 1\n",
        "z = a['a']\n",
        "b = [4,5,6]\n",
        "a['a'] = [z, b]\n",
        "print(a['a'])"
      ],
      "execution_count": null,
      "outputs": [
        {
          "output_type": "stream",
          "text": [
            "[1, [4, 5, 6]]\n"
          ],
          "name": "stdout"
        }
      ]
    },
    {
      "cell_type": "code",
      "metadata": {
        "id": "kGxkCb6r_ZR4",
        "colab_type": "code",
        "colab": {
          "base_uri": "https://localhost:8080/",
          "height": 85
        },
        "outputId": "50b67a9d-4ea2-4465-8ed5-9ce87ff89083"
      },
      "source": [
        "dog = wn.synset('dog.n.01')\n",
        "hypo = lambda s: s.hyponyms()\n",
        "hyper = lambda s: s.hypernyms()\n",
        "# print((list(set(dog.closure(hypo, depth=2)))))\n",
        "# print(\"*****\")\n",
        "z = list(dog.closure(hyper, depth=1))\n",
        "count = 0\n",
        "for item in z:\n",
        "  count = count+1\n",
        "  print(count)\n",
        "  print(item.lemma_names())\n",
        "# print(list(dog.closure(hypo, depth=20)))\n",
        "# print(list(dog.closure(hyper, depth=2)))\n"
      ],
      "execution_count": null,
      "outputs": [
        {
          "output_type": "stream",
          "text": [
            "1\n",
            "['canine', 'canid']\n",
            "2\n",
            "['domestic_animal', 'domesticated_animal']\n"
          ],
          "name": "stdout"
        }
      ]
    },
    {
      "cell_type": "code",
      "metadata": {
        "id": "hxl73pqBT2wL",
        "colab_type": "code",
        "colab": {
          "base_uri": "https://localhost:8080/",
          "height": 85
        },
        "outputId": "927325fb-5baf-4f35-964d-67e63cc40f23"
      },
      "source": [
        "hypo = lambda s: s.hyponyms()\n",
        "hyper = lambda s: s.hypernyms()\n",
        "temp = list()\n",
        "hyper_30 = list()\n",
        "for elem in allSynsets:\n",
        "  # word = elem.name()\n",
        "  syn_dict[elem] = elem.lemma_names()\n",
        "  hyper_syn_list = list(elem.closure(hyper, depth=1))\n",
        "  temp.append(len(hyper_syn_list))\n",
        "  if (len(hyper_syn_list) > 3):\n",
        "    sub_allSynsets.append(elem)\n",
        "    print(hyper_syn_list)"
      ],
      "execution_count": null,
      "outputs": [
        {
          "output_type": "stream",
          "text": [
            "[Synset('alkaloid.n.01'), Synset('antidote.n.01'), Synset('antispasmodic.n.01'), Synset('mydriatic.n.01'), Synset('poison.n.01')]\n",
            "[Synset('catecholamine.n.01'), Synset('hormone.n.01'), Synset('neurotransmitter.n.01'), Synset('vasoconstrictor.n.01')]\n",
            "[Synset('antibacterial.n.01'), Synset('antifungal.n.01'), Synset('stain.n.02'), Synset('vermifuge.n.01')]\n",
            "[Synset('feast_day.n.01'), Synset('holy_day_of_obligation.n.01'), Synset('legal_holiday.n.01'), Synset('quarter_day.n.01')]\n"
          ],
          "name": "stdout"
        }
      ]
    },
    {
      "cell_type": "markdown",
      "metadata": {
        "id": "qgm9BA-P-hy2",
        "colab_type": "text"
      },
      "source": [
        "### now we are checking if the devised strategy works with synset having more than 1 hypernym"
      ]
    },
    {
      "cell_type": "code",
      "metadata": {
        "id": "pZ2q0gtwfuYy",
        "colab_type": "code",
        "colab": {
          "base_uri": "https://localhost:8080/",
          "height": 513
        },
        "outputId": "65d2f12b-a957-4e14-8edb-a7c3136ee94d"
      },
      "source": [
        "syn_dict = dict()\n",
        "# sub_Synsets = sub_allSynsets\n",
        "for elem in sub_allSynsets:\n",
        "  syn_dict[elem] = elem.lemma_names()\n",
        "  hyper_syn_list = list(set(elem.closure(hyper, depth=1)))\n",
        "  for item in hyper_syn_list:\n",
        "    temp = syn_dict[elem]\n",
        "    # print(temp)\n",
        "    # syn_dict[elem] = [temp, item.lemma_names()]\n",
        "    syn_dict[elem] = temp + item.lemma_names()\n",
        "  # print((flatten(syn_dict[elem])))\n",
        "  # print(unlist_2(syn_dict[elem]))\n",
        "  print(syn_dict[elem])\n",
        "  print(\"************************\")\n",
        "\n",
        "\n"
      ],
      "execution_count": null,
      "outputs": [
        {
          "output_type": "stream",
          "text": [
            "['entity']\n",
            "************************\n",
            "['physical_entity', 'entity']\n",
            "************************\n",
            "['abstraction', 'abstract_entity', 'entity']\n",
            "************************\n",
            "['thing', 'physical_entity']\n",
            "************************\n",
            "['object', 'physical_object', 'physical_entity']\n",
            "************************\n",
            "['whole', 'unit', 'object', 'physical_object']\n",
            "************************\n",
            "['congener', 'whole', 'unit']\n",
            "************************\n",
            "['living_thing', 'animate_thing', 'whole', 'unit']\n",
            "************************\n",
            "['organism', 'being', 'living_thing', 'animate_thing']\n",
            "************************\n",
            "['benthos', 'organism', 'being']\n",
            "************************\n",
            "['atropine', 'mydriatic', 'mydriatic_drug', 'alkaloid', 'antidote', 'counterpoison', 'antispasmodic', 'spasmolytic', 'antispasmodic_agent', 'poison', 'toxicant', 'poisonous_substance']\n",
            "************************\n",
            "['epinephrine', 'epinephrin', 'adrenaline', 'Adrenalin', 'vasoconstrictor', 'vasoconstrictive', 'pressor', 'catecholamine', 'neurotransmitter', 'hormone', 'endocrine', 'internal_secretion']\n",
            "************************\n",
            "['gentian_violet', 'crystal_violet', 'stain', 'antibacterial', 'antibacterial_drug', 'bactericide', 'antifungal', 'antifungal_agent', 'fungicide', 'antimycotic', 'antimycotic_agent', 'vermifuge', 'anthelmintic', 'anthelminthic', 'helminthic']\n",
            "************************\n",
            "['Christmas', 'Christmas_Day', 'Xmas', 'Dec_25', 'quarter_day', 'feast_day', 'fete_day', 'holy_day_of_obligation', 'legal_holiday', 'national_holiday', 'public_holiday']\n",
            "************************\n"
          ],
          "name": "stdout"
        }
      ]
    },
    {
      "cell_type": "code",
      "metadata": {
        "id": "ACERxMqmducg",
        "colab_type": "code",
        "colab": {}
      },
      "source": [
        "\n",
        "def CountFrequency(my_list): \n",
        "  \n",
        "    # Creating an empty dictionary  \n",
        "    freq = {} \n",
        "    for item in my_list: \n",
        "        if (item in freq): \n",
        "            freq[item] += 1\n",
        "        else: \n",
        "            freq[item] = 1\n",
        "    print(len(freq))\n",
        "    freq = dict(sorted(freq.items()))\n",
        "  \n",
        "    for key, value in freq.items(): \n",
        "        print (\"% d : % d\"%(key, value)) \n",
        "\n",
        "CountFrequency(temp)"
      ],
      "execution_count": null,
      "outputs": []
    },
    {
      "cell_type": "code",
      "metadata": {
        "id": "t7UFkN28_ZR-",
        "colab_type": "code",
        "colab": {}
      },
      "source": [
        "len(temp)\n",
        "\n",
        "\n",
        "# q=list(dog.closure(hyper, depth=1))\n",
        "# for elem in q:\n",
        "#     elem = elem.name()\n",
        "#     name = wn.synset(elem)\n",
        "#     a = list(set(dog.closure(hypo, depth=20)))\n",
        "#     print(elem,a)"
      ],
      "execution_count": null,
      "outputs": []
    },
    {
      "cell_type": "code",
      "metadata": {
        "id": "_eWB3_TQ_ZSE",
        "colab_type": "code",
        "colab": {}
      },
      "source": [
        "len(temp)"
      ],
      "execution_count": null,
      "outputs": []
    },
    {
      "cell_type": "code",
      "metadata": {
        "id": "HEG93BBP_ZSJ",
        "colab_type": "code",
        "colab": {}
      },
      "source": [
        "for elem in syn_group:\n",
        "    print(elem, wn.synset(elem).lemma_names())"
      ],
      "execution_count": null,
      "outputs": []
    },
    {
      "cell_type": "code",
      "metadata": {
        "id": "49nK0enN_ZSO",
        "colab_type": "code",
        "colab": {}
      },
      "source": [
        "word = wn.synset('archeologist.n.01')\n",
        "hyper_word = set([i for i in word.closure(lambda s:s.hypernyms())])\n",
        "hypo_word = set([i for i in word.closure(lambda s:s.hyponyms())])\n",
        "print(list(hyper_word)[3].lemma_names())\n",
        "# print(list(hyper_word))\n",
        "print(len(list(hyper_word)))\n",
        "print(len(list(hypo_word)))\n",
        "for i in range(len(list(hyper_word))):\n",
        "    print(list(hyper_word)[i].lemma_names(),list(hyper_word)[i])"
      ],
      "execution_count": null,
      "outputs": []
    },
    {
      "cell_type": "code",
      "metadata": {
        "id": "b_oUZE4h_ZST",
        "colab_type": "code",
        "colab": {}
      },
      "source": [
        "m = d['a']\n",
        "q=[]\n",
        "\n",
        "def unlist(m):\n",
        "    q = []\n",
        "    for x in m:\n",
        "        if(type(x) is list):\n",
        "            for y in x:\n",
        "                q.append(y)\n",
        "            continue\n",
        "        q.append(x)\n",
        "    return q\n",
        "q = unlist(m) \n",
        "    \n",
        "print(q)"
      ],
      "execution_count": null,
      "outputs": []
    },
    {
      "cell_type": "code",
      "metadata": {
        "scrolled": false,
        "id": "Ry4Zg7wR_ZSX",
        "colab_type": "code",
        "colab": {}
      },
      "source": [
        "word = wn.synset('frump.n.01')\n",
        "hyper_word = set([i for i in word.closure(lambda s:s.hypernyms())])\n",
        "hypo_word = set([i for i in word.closure(lambda s:s.hyponyms())])\n",
        "# print(list(hyper_word)[3].lemma_names())\n",
        "# print(list(hyper_word))\n",
        "print((list(hyper_word)))\n",
        "print((list(hypo_word)))"
      ],
      "execution_count": null,
      "outputs": []
    },
    {
      "cell_type": "code",
      "metadata": {
        "id": "vFURjPEu_ZSe",
        "colab_type": "code",
        "colab": {}
      },
      "source": [
        "for i in range(10):\n",
        "    print(list(hypo_word)[i].lemma_names(),list(hypo_word)[i])"
      ],
      "execution_count": null,
      "outputs": []
    },
    {
      "cell_type": "code",
      "metadata": {
        "id": "qqDttwer_ZSj",
        "colab_type": "code",
        "colab": {}
      },
      "source": [
        ""
      ],
      "execution_count": null,
      "outputs": []
    },
    {
      "cell_type": "code",
      "metadata": {
        "id": "jyKJwYGv_ZSo",
        "colab_type": "code",
        "colab": {}
      },
      "source": [
        "# for item in hyper_word:\n",
        "#     print(item.hyponyms())"
      ],
      "execution_count": null,
      "outputs": []
    },
    {
      "cell_type": "code",
      "metadata": {
        "id": "6VG6RdBe_ZSs",
        "colab_type": "code",
        "colab": {}
      },
      "source": [
        "x=list(hyper_word)[0]\n",
        "print(list(x.hyponyms()), x.lemma_names())"
      ],
      "execution_count": null,
      "outputs": []
    },
    {
      "cell_type": "code",
      "metadata": {
        "id": "Bnnd4eXu_ZSx",
        "colab_type": "code",
        "colab": {}
      },
      "source": [
        "x=(list(hyper_word)[0].lemma_names())\n",
        "print(x)\n",
        "# for item in x:\n",
        "#     print(x.hyponyms())"
      ],
      "execution_count": null,
      "outputs": []
    },
    {
      "cell_type": "code",
      "metadata": {
        "id": "fKZmWjvP_ZS1",
        "colab_type": "code",
        "colab": {}
      },
      "source": [
        "w1 = wn.synset('living_thing.n.01')\n",
        "x =[]\n",
        "for l in w1.lemmas():\n",
        "    print(l.name())\n",
        "    x.append(l.name())\n",
        "    if (l.antonyms()):\n",
        "        x.append(l.antonyms()[0].name())\n",
        "print(x)\n",
        "print(w1)"
      ],
      "execution_count": null,
      "outputs": []
    },
    {
      "cell_type": "code",
      "metadata": {
        "id": "xBVug1XV_ZS9",
        "colab_type": "code",
        "colab": {}
      },
      "source": [
        "word = 'termagant'\n",
        "syn_group = []\n",
        "syn_dict = dict()\n",
        "for elem in wn.synsets(word):\n",
        "    syn_group.append(elem.name())\n",
        "    print(elem)\n",
        "for elem in syn_group:\n",
        "    syn_dict[elem]= wn.synset(elem).definition()\n",
        "#     print(elem.hypernyms())\n",
        "    print(elem,syn_dict[elem])\n"
      ],
      "execution_count": null,
      "outputs": []
    },
    {
      "cell_type": "code",
      "metadata": {
        "id": "WYo9QEjI_ZTB",
        "colab_type": "code",
        "colab": {}
      },
      "source": [
        "# for i in wn.all_synsets():\n",
        "#     if i.pos() in ['a','s']:\n",
        "#         for j in i.lemmas():\n",
        "#             if j.antonyms():\n",
        "#                 print(j.name(), j.antonyms[0].name())"
      ],
      "execution_count": null,
      "outputs": []
    },
    {
      "cell_type": "code",
      "metadata": {
        "id": "X7UQGbTB_ZTG",
        "colab_type": "code",
        "colab": {}
      },
      "source": [
        "# wv.most_similar('termagant')+wv.most_similar('frumps')\n",
        "wv.most_similar('she-devil')\n",
        "# wv.most_similar('baron')\n",
        "# wv.most_similar('magnate')\n",
        "# wv.most_similar('tycoon')"
      ],
      "execution_count": null,
      "outputs": []
    },
    {
      "cell_type": "code",
      "metadata": {
        "id": "uu9TwJ9Q_ZTK",
        "colab_type": "code",
        "colab": {}
      },
      "source": [
        ""
      ],
      "execution_count": null,
      "outputs": []
    },
    {
      "cell_type": "code",
      "metadata": {
        "id": "UmAMnUuy_ZTQ",
        "colab_type": "code",
        "colab": {}
      },
      "source": [
        "# working with adjective here"
      ],
      "execution_count": null,
      "outputs": []
    },
    {
      "cell_type": "code",
      "metadata": {
        "id": "YpQQEu7r_ZTU",
        "colab_type": "code",
        "colab": {}
      },
      "source": [
        "word = 'worse'\n",
        "syn_group = []\n",
        "syn_dict = dict()\n",
        "for elem in wn.synsets(word,pos=['s','a']):\n",
        "    syn_group.append(elem.name())\n",
        "    print(elem)\n",
        "# for elem in syn_group:\n",
        "#     syn_dict[elem]= wn.synset(elem).definition()\n",
        "# #     print(elem.hypernyms())\n",
        "#     print(elem,syn_dict[elem])"
      ],
      "execution_count": null,
      "outputs": []
    },
    {
      "cell_type": "code",
      "metadata": {
        "id": "sjENpUu8_ZTa",
        "colab_type": "code",
        "colab": {}
      },
      "source": [
        "word = wn.synset('bad.s.11')\n",
        "hyper_word = set([i for i in word.closure(lambda s:s.hypernyms())])\n",
        "hypo_word = set([i for i in word.closure(lambda s:s.hyponyms())])\n",
        "print(list(hyper_word))\n",
        "print(list(hypo_word))"
      ],
      "execution_count": null,
      "outputs": []
    },
    {
      "cell_type": "code",
      "metadata": {
        "id": "UqDRgvz3_ZTf",
        "colab_type": "code",
        "colab": {}
      },
      "source": [
        "syn=[]\n",
        "ant =[]\n",
        "\n",
        "for synset in wn.synsets('worse'):\n",
        "    for lemma in synset.lemmas():\n",
        "        syn.append(lemma.name())\n",
        "        if lemma.antonyms():\n",
        "            ant.append(lemma.antonyms()[0].name())\n",
        "\n",
        "print(syn)\n",
        "print(ant)"
      ],
      "execution_count": null,
      "outputs": []
    },
    {
      "cell_type": "code",
      "metadata": {
        "id": "EovsQIoZ_ZTk",
        "colab_type": "code",
        "colab": {}
      },
      "source": [
        "# average possible number of meanings in verb category\n",
        "\n",
        "num_meanings_per_adj = []\n"
      ],
      "execution_count": null,
      "outputs": []
    },
    {
      "cell_type": "code",
      "metadata": {
        "id": "kdkngMnB_ZTp",
        "colab_type": "code",
        "colab": {}
      },
      "source": [
        ""
      ],
      "execution_count": null,
      "outputs": []
    },
    {
      "cell_type": "code",
      "metadata": {
        "id": "iqDc5Z9W_ZTt",
        "colab_type": "code",
        "colab": {}
      },
      "source": [
        ""
      ],
      "execution_count": null,
      "outputs": []
    },
    {
      "cell_type": "code",
      "metadata": {
        "id": "M4tLJGNm_ZTx",
        "colab_type": "code",
        "colab": {}
      },
      "source": [
        "# wv.most_similar('king')+wv.most_similar('queen')+wv.most_similar('bishop')+wv.most_similar('rook')"
      ],
      "execution_count": null,
      "outputs": []
    },
    {
      "cell_type": "code",
      "metadata": {
        "id": "TnGnvDs8_ZT0",
        "colab_type": "code",
        "colab": {}
      },
      "source": [
        "# wv.most_similar(mean(wv(‘baron’)+wv(‘magnate’)+wv(‘tycoon’)))\n",
        "common=wv.wv['baron']+wv.wv['tycoon']+wv.wv['magnate']\n",
        "common\n",
        "\n",
        "result = wv.most_similar(positive=['baron','magnate','tycoon'])\n",
        "# result_chess = result = wv.most_similar(positive=['king','bishop','rook'])"
      ],
      "execution_count": null,
      "outputs": []
    },
    {
      "cell_type": "code",
      "metadata": {
        "id": "LdUlAB4P_ZT7",
        "colab_type": "code",
        "colab": {}
      },
      "source": [
        "result\n",
        "# result_chess\n"
      ],
      "execution_count": null,
      "outputs": []
    },
    {
      "cell_type": "code",
      "metadata": {
        "id": "ZiH5YYwf_ZT_",
        "colab_type": "code",
        "colab": {}
      },
      "source": [
        "for elem in syn_dict:\n",
        "    if len(syn_dict[elem])<2:\n",
        "        del syn_dict[elem]\n",
        "for elem in syn_dict:\n",
        "    print(elem, syn_dict[elem])\n",
        "    print(type(syn_dict[elem]))"
      ],
      "execution_count": null,
      "outputs": []
    },
    {
      "cell_type": "code",
      "metadata": {
        "id": "-nXdiyn7_ZUD",
        "colab_type": "code",
        "colab": {}
      },
      "source": [
        "syn = wn.synset('king.n.09').hypernyms()[0].hyponyms()\n",
        "# syn.hypernyms()[0].hyponyms()\n",
        "syn"
      ],
      "execution_count": null,
      "outputs": []
    },
    {
      "cell_type": "code",
      "metadata": {
        "id": "KUtvSHEy_ZUG",
        "colab_type": "code",
        "colab": {}
      },
      "source": [
        "wv.most_similar()"
      ],
      "execution_count": null,
      "outputs": []
    },
    {
      "cell_type": "code",
      "metadata": {
        "id": "EeQUWbUE_ZUL",
        "colab_type": "code",
        "colab": {}
      },
      "source": [
        ""
      ],
      "execution_count": null,
      "outputs": []
    },
    {
      "cell_type": "code",
      "metadata": {
        "scrolled": true,
        "id": "WN0Ln3v8_ZUP",
        "colab_type": "code",
        "colab": {}
      },
      "source": [
        "syn = wn.synsets('king')[0]\n",
        "print(syn.name(), syn.definition())\n",
        "# syn.lemmas()\n",
        "for ele in syn.hypernyms():\n",
        "    print(ele.hyponyms())\n"
      ],
      "execution_count": null,
      "outputs": []
    },
    {
      "cell_type": "code",
      "metadata": {
        "id": "NIMo8phw_ZUU",
        "colab_type": "code",
        "colab": {}
      },
      "source": [
        "wn.synsets('king')"
      ],
      "execution_count": null,
      "outputs": []
    },
    {
      "cell_type": "code",
      "metadata": {
        "id": "5fluHjkB_ZUX",
        "colab_type": "code",
        "colab": {}
      },
      "source": [
        "wn.synset('baron.n.03').definition()"
      ],
      "execution_count": null,
      "outputs": []
    },
    {
      "cell_type": "code",
      "metadata": {
        "id": "5KqWtmm7_ZUd",
        "colab_type": "code",
        "colab": {}
      },
      "source": [
        "wn.synset('baron.n.03').lemma_names()"
      ],
      "execution_count": null,
      "outputs": []
    },
    {
      "cell_type": "code",
      "metadata": {
        "id": "BgUh4mgt_ZUi",
        "colab_type": "code",
        "colab": {}
      },
      "source": [
        "# syn.hypernym_paths()"
      ],
      "execution_count": null,
      "outputs": []
    },
    {
      "cell_type": "code",
      "metadata": {
        "id": "Bo3rAjqG_ZUu",
        "colab_type": "code",
        "colab": {}
      },
      "source": [
        "syn = wn.synsets('great')[0]\n",
        "syn.hypernyms()[0].hyponyms()"
      ],
      "execution_count": null,
      "outputs": []
    },
    {
      "cell_type": "code",
      "metadata": {
        "id": "QRtS0bLI_ZUz",
        "colab_type": "code",
        "colab": {}
      },
      "source": [
        "s =[]\n",
        "for syn in wn.synsets('great'):\n",
        "    z=[]\n",
        "    print(syn.name(), syn.hypernyms())\n",
        "    z.append(syn.hypernyms())\n",
        "    s.append(z)\n",
        "for ele in s:\n",
        "    print(ele)"
      ],
      "execution_count": null,
      "outputs": []
    },
    {
      "cell_type": "code",
      "metadata": {
        "id": "lXoEVHCp_ZU3",
        "colab_type": "code",
        "colab": {}
      },
      "source": [
        ""
      ],
      "execution_count": null,
      "outputs": []
    },
    {
      "cell_type": "code",
      "metadata": {
        "id": "yew-0JlC_ZVB",
        "colab_type": "code",
        "colab": {}
      },
      "source": [
        "s=[]\n",
        "s_h =[]\n",
        "\n",
        "for syn in wn.synsets('King'):\n",
        "    s.append(syn.name())\n",
        "    sh_append()\n",
        "    \n",
        "for e in s:\n",
        "    print(e)"
      ],
      "execution_count": null,
      "outputs": []
    },
    {
      "cell_type": "code",
      "metadata": {
        "id": "7bVSymjL_ZVJ",
        "colab_type": "code",
        "colab": {}
      },
      "source": [
        ""
      ],
      "execution_count": null,
      "outputs": []
    },
    {
      "cell_type": "code",
      "metadata": {
        "id": "ofJxFB-t_ZVN",
        "colab_type": "code",
        "colab": {}
      },
      "source": [
        ""
      ],
      "execution_count": null,
      "outputs": []
    },
    {
      "cell_type": "code",
      "metadata": {
        "id": "jzWyq4ta_ZVU",
        "colab_type": "code",
        "colab": {}
      },
      "source": [
        ""
      ],
      "execution_count": null,
      "outputs": []
    },
    {
      "cell_type": "code",
      "metadata": {
        "id": "oG9PYc0Q_ZVY",
        "colab_type": "code",
        "colab": {}
      },
      "source": [
        ""
      ],
      "execution_count": null,
      "outputs": []
    },
    {
      "cell_type": "code",
      "metadata": {
        "id": "zOm9RhIc_ZVb",
        "colab_type": "code",
        "colab": {}
      },
      "source": [
        ""
      ],
      "execution_count": null,
      "outputs": []
    },
    {
      "cell_type": "code",
      "metadata": {
        "id": "kWK47J_h_ZVf",
        "colab_type": "code",
        "colab": {}
      },
      "source": [
        "s =[]\n",
        "count = 0\n",
        "for syn in wn.synsets('king'):\n",
        "    s.append(syn.lemmas())\n",
        "for ele in s:\n",
        "    count+=1\n",
        "    print(ele)\n",
        "    print(count)"
      ],
      "execution_count": null,
      "outputs": []
    },
    {
      "cell_type": "code",
      "metadata": {
        "id": "K3hyFRrB_ZVj",
        "colab_type": "code",
        "colab": {}
      },
      "source": [
        ""
      ],
      "execution_count": null,
      "outputs": []
    },
    {
      "cell_type": "code",
      "metadata": {
        "id": "eHpL2iX-_ZV1",
        "colab_type": "code",
        "colab": {}
      },
      "source": [
        ""
      ],
      "execution_count": null,
      "outputs": []
    },
    {
      "cell_type": "code",
      "metadata": {
        "id": "DnDlIxw6_ZV6",
        "colab_type": "code",
        "colab": {}
      },
      "source": [
        "synonyms = []\n",
        "antonyms = []\n",
        "\n",
        "for syn in wn.synsets(\"king\"):\n",
        "    for l in syn.lemmas():\n",
        "        synonyms.append(l.name())\n",
        "        if l.antonyms():\n",
        "            antonyms.append(l.antonyms()[0].name())\n",
        "\n",
        "print(set(synonyms))\n"
      ],
      "execution_count": null,
      "outputs": []
    },
    {
      "cell_type": "code",
      "metadata": {
        "id": "MG_MyhuD_ZV-",
        "colab_type": "code",
        "colab": {}
      },
      "source": [
        "print(set(antonyms))"
      ],
      "execution_count": null,
      "outputs": []
    },
    {
      "cell_type": "code",
      "metadata": {
        "id": "v_MxCXJt_ZWE",
        "colab_type": "code",
        "colab": {}
      },
      "source": [
        ""
      ],
      "execution_count": null,
      "outputs": []
    },
    {
      "cell_type": "code",
      "metadata": {
        "id": "W0XyJEuu_ZWH",
        "colab_type": "code",
        "colab": {}
      },
      "source": [
        ""
      ],
      "execution_count": null,
      "outputs": []
    }
  ]
}